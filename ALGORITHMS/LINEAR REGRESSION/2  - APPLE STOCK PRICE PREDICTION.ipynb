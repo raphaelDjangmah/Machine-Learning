{
 "cells": [
  {
   "cell_type": "markdown",
   "id": "4a2ac4df",
   "metadata": {},
   "source": [
    "## Use machine learning linear regression to predict the closing region (divide the price into 4) of APPLE stocks in a day considering the spread (highest-lowest price) attained that day"
   ]
  },
  {
   "cell_type": "code",
   "execution_count": 133,
   "id": "4cd54209",
   "metadata": {},
   "outputs": [],
   "source": [
    "#imports needed\n",
    "import numpy as np\n",
    "import pandas as pd\n",
    "import matplotlib.pyplot as plt\n",
    "from sklearn import linear_model\n",
    "from datetime import time,date"
   ]
  },
  {
   "cell_type": "code",
   "execution_count": 134,
   "id": "888c976f",
   "metadata": {},
   "outputs": [],
   "source": [
    "#taking advantage of yahoo finance to get apple stocks data\n",
    "try:\n",
    "    import yfinance\n",
    "except:\n",
    "    !pip install -q yfinance\n",
    "\n",
    "try:\n",
    "    import yahoofinancials\n",
    "except:\n",
    "    !pip install -q yahoofinancials"
   ]
  },
  {
   "cell_type": "code",
   "execution_count": 135,
   "id": "54148eb9",
   "metadata": {},
   "outputs": [
    {
     "name": "stdout",
     "output_type": "stream",
     "text": [
      "[*********************100%***********************]  1 of 1 completed\n"
     ]
    },
    {
     "data": {
      "text/html": [
       "<div>\n",
       "<style scoped>\n",
       "    .dataframe tbody tr th:only-of-type {\n",
       "        vertical-align: middle;\n",
       "    }\n",
       "\n",
       "    .dataframe tbody tr th {\n",
       "        vertical-align: top;\n",
       "    }\n",
       "\n",
       "    .dataframe thead th {\n",
       "        text-align: right;\n",
       "    }\n",
       "</style>\n",
       "<table border=\"1\" class=\"dataframe\">\n",
       "  <thead>\n",
       "    <tr style=\"text-align: right;\">\n",
       "      <th></th>\n",
       "      <th>Open</th>\n",
       "      <th>High</th>\n",
       "      <th>Low</th>\n",
       "      <th>Close</th>\n",
       "      <th>Adj Close</th>\n",
       "      <th>Volume</th>\n",
       "    </tr>\n",
       "    <tr>\n",
       "      <th>Datetime</th>\n",
       "      <th></th>\n",
       "      <th></th>\n",
       "      <th></th>\n",
       "      <th></th>\n",
       "      <th></th>\n",
       "      <th></th>\n",
       "    </tr>\n",
       "  </thead>\n",
       "  <tbody>\n",
       "    <tr>\n",
       "      <th>2022-01-03 00:00:00</th>\n",
       "      <td>1.137656</td>\n",
       "      <td>1.138045</td>\n",
       "      <td>1.136493</td>\n",
       "      <td>1.136622</td>\n",
       "      <td>1.136622</td>\n",
       "      <td>0</td>\n",
       "    </tr>\n",
       "    <tr>\n",
       "      <th>2022-01-03 01:00:00</th>\n",
       "      <td>1.136622</td>\n",
       "      <td>1.137268</td>\n",
       "      <td>1.135332</td>\n",
       "      <td>1.136105</td>\n",
       "      <td>1.136105</td>\n",
       "      <td>0</td>\n",
       "    </tr>\n",
       "    <tr>\n",
       "      <th>2022-01-03 02:00:00</th>\n",
       "      <td>1.136235</td>\n",
       "      <td>1.136493</td>\n",
       "      <td>1.134559</td>\n",
       "      <td>1.134559</td>\n",
       "      <td>1.134559</td>\n",
       "      <td>0</td>\n",
       "    </tr>\n",
       "    <tr>\n",
       "      <th>2022-01-03 03:00:00</th>\n",
       "      <td>1.134687</td>\n",
       "      <td>1.135718</td>\n",
       "      <td>1.134559</td>\n",
       "      <td>1.135203</td>\n",
       "      <td>1.135203</td>\n",
       "      <td>0</td>\n",
       "    </tr>\n",
       "    <tr>\n",
       "      <th>2022-01-03 04:00:00</th>\n",
       "      <td>1.135460</td>\n",
       "      <td>1.135589</td>\n",
       "      <td>1.134301</td>\n",
       "      <td>1.134430</td>\n",
       "      <td>1.134430</td>\n",
       "      <td>0</td>\n",
       "    </tr>\n",
       "  </tbody>\n",
       "</table>\n",
       "</div>"
      ],
      "text/plain": [
       "                         Open      High       Low     Close  Adj Close  Volume\n",
       "Datetime                                                                      \n",
       "2022-01-03 00:00:00  1.137656  1.138045  1.136493  1.136622   1.136622       0\n",
       "2022-01-03 01:00:00  1.136622  1.137268  1.135332  1.136105   1.136105       0\n",
       "2022-01-03 02:00:00  1.136235  1.136493  1.134559  1.134559   1.134559       0\n",
       "2022-01-03 03:00:00  1.134687  1.135718  1.134559  1.135203   1.135203       0\n",
       "2022-01-03 04:00:00  1.135460  1.135589  1.134301  1.134430   1.134430       0"
      ]
     },
     "execution_count": 135,
     "metadata": {},
     "output_type": "execute_result"
    }
   ],
   "source": [
    "import yfinance as yf\n",
    "import yahoofinancials as yfs\n",
    "pd.set_option('display.max.rows',None)\n",
    "\n",
    "#downloading hourly prices\n",
    "df = yf.download('EURUSD=X',start=\"2022-01-01\",end=date.today(),interval=\"1h\",progress=True)\n",
    "df.head()"
   ]
  },
  {
   "cell_type": "code",
   "execution_count": 181,
   "id": "c3db07ac",
   "metadata": {},
   "outputs": [
    {
     "data": {
      "text/html": [
       "<div>\n",
       "<style scoped>\n",
       "    .dataframe tbody tr th:only-of-type {\n",
       "        vertical-align: middle;\n",
       "    }\n",
       "\n",
       "    .dataframe tbody tr th {\n",
       "        vertical-align: top;\n",
       "    }\n",
       "\n",
       "    .dataframe thead th {\n",
       "        text-align: right;\n",
       "    }\n",
       "</style>\n",
       "<table border=\"1\" class=\"dataframe\">\n",
       "  <thead>\n",
       "    <tr style=\"text-align: right;\">\n",
       "      <th></th>\n",
       "      <th>Open</th>\n",
       "      <th>High</th>\n",
       "      <th>Low</th>\n",
       "      <th>Close</th>\n",
       "      <th>Adj Close</th>\n",
       "      <th>Region</th>\n",
       "      <th>Region Index</th>\n",
       "      <th>Spread</th>\n",
       "    </tr>\n",
       "    <tr>\n",
       "      <th>Datetime</th>\n",
       "      <th></th>\n",
       "      <th></th>\n",
       "      <th></th>\n",
       "      <th></th>\n",
       "      <th></th>\n",
       "      <th></th>\n",
       "      <th></th>\n",
       "      <th></th>\n",
       "    </tr>\n",
       "  </thead>\n",
       "  <tbody>\n",
       "    <tr>\n",
       "      <th>2022-01-03 00:00:00</th>\n",
       "      <td>1.137656</td>\n",
       "      <td>1.138045</td>\n",
       "      <td>1.136493</td>\n",
       "      <td>1.136622</td>\n",
       "      <td>1.136622</td>\n",
       "      <td>8</td>\n",
       "      <td>1</td>\n",
       "      <td>15</td>\n",
       "    </tr>\n",
       "    <tr>\n",
       "      <th>2022-01-03 01:00:00</th>\n",
       "      <td>1.136622</td>\n",
       "      <td>1.137268</td>\n",
       "      <td>1.135332</td>\n",
       "      <td>1.136105</td>\n",
       "      <td>1.136105</td>\n",
       "      <td>39</td>\n",
       "      <td>2</td>\n",
       "      <td>19</td>\n",
       "    </tr>\n",
       "    <tr>\n",
       "      <th>2022-01-03 02:00:00</th>\n",
       "      <td>1.136235</td>\n",
       "      <td>1.136493</td>\n",
       "      <td>1.134559</td>\n",
       "      <td>1.134559</td>\n",
       "      <td>1.134559</td>\n",
       "      <td>0</td>\n",
       "      <td>1</td>\n",
       "      <td>19</td>\n",
       "    </tr>\n",
       "    <tr>\n",
       "      <th>2022-01-03 03:00:00</th>\n",
       "      <td>1.134687</td>\n",
       "      <td>1.135718</td>\n",
       "      <td>1.134559</td>\n",
       "      <td>1.135203</td>\n",
       "      <td>1.135203</td>\n",
       "      <td>55</td>\n",
       "      <td>3</td>\n",
       "      <td>11</td>\n",
       "    </tr>\n",
       "    <tr>\n",
       "      <th>2022-01-03 04:00:00</th>\n",
       "      <td>1.135460</td>\n",
       "      <td>1.135589</td>\n",
       "      <td>1.134301</td>\n",
       "      <td>1.134430</td>\n",
       "      <td>1.134430</td>\n",
       "      <td>9</td>\n",
       "      <td>1</td>\n",
       "      <td>12</td>\n",
       "    </tr>\n",
       "  </tbody>\n",
       "</table>\n",
       "</div>"
      ],
      "text/plain": [
       "                         Open      High       Low     Close  Adj Close  \\\n",
       "Datetime                                                                 \n",
       "2022-01-03 00:00:00  1.137656  1.138045  1.136493  1.136622   1.136622   \n",
       "2022-01-03 01:00:00  1.136622  1.137268  1.135332  1.136105   1.136105   \n",
       "2022-01-03 02:00:00  1.136235  1.136493  1.134559  1.134559   1.134559   \n",
       "2022-01-03 03:00:00  1.134687  1.135718  1.134559  1.135203   1.135203   \n",
       "2022-01-03 04:00:00  1.135460  1.135589  1.134301  1.134430   1.134430   \n",
       "\n",
       "                     Region  Region Index  Spread  \n",
       "Datetime                                           \n",
       "2022-01-03 00:00:00       8             1      15  \n",
       "2022-01-03 01:00:00      39             2      19  \n",
       "2022-01-03 02:00:00       0             1      19  \n",
       "2022-01-03 03:00:00      55             3      11  \n",
       "2022-01-03 04:00:00       9             1      12  "
      ]
     },
     "execution_count": 181,
     "metadata": {},
     "output_type": "execute_result"
    }
   ],
   "source": [
    "#getting the spread attained\n",
    "spread = []\n",
    "\n",
    "for i in range(len(df.Open)):\n",
    "    spread.append(int((df.High[i]-df.Low[i]) * 10000))\n",
    "\n",
    "df['Spread'] = spread\n",
    "\n",
    "df.head()"
   ]
  },
  {
   "cell_type": "code",
   "execution_count": 183,
   "id": "4c82dbb3",
   "metadata": {
    "scrolled": true
   },
   "outputs": [
    {
     "data": {
      "text/plain": [
       "[8, 39, 0, 55, 9]"
      ]
     },
     "execution_count": 183,
     "metadata": {},
     "output_type": "execute_result"
    }
   ],
   "source": [
    "#now get the region onto which the close happened/\n",
    "region  = []\n",
    "\n",
    "for i in range(len(df.Open)):\n",
    "    spreads = abs(df.High[i] - df.Low[i])\n",
    "    if(spreads>0):\n",
    "        reg = ((df.Close[i]-df.Low[i])*100)/spreads\n",
    "        region.append(int(reg))\n",
    "    else:\n",
    "        region.append(0)\n",
    "\n",
    "region[:5]"
   ]
  },
  {
   "cell_type": "code",
   "execution_count": 184,
   "id": "1ccd23b2",
   "metadata": {},
   "outputs": [
    {
     "data": {
      "text/html": [
       "<div>\n",
       "<style scoped>\n",
       "    .dataframe tbody tr th:only-of-type {\n",
       "        vertical-align: middle;\n",
       "    }\n",
       "\n",
       "    .dataframe tbody tr th {\n",
       "        vertical-align: top;\n",
       "    }\n",
       "\n",
       "    .dataframe thead th {\n",
       "        text-align: right;\n",
       "    }\n",
       "</style>\n",
       "<table border=\"1\" class=\"dataframe\">\n",
       "  <thead>\n",
       "    <tr style=\"text-align: right;\">\n",
       "      <th></th>\n",
       "      <th>Open</th>\n",
       "      <th>High</th>\n",
       "      <th>Low</th>\n",
       "      <th>Close</th>\n",
       "      <th>Adj Close</th>\n",
       "      <th>Region</th>\n",
       "      <th>Region Index</th>\n",
       "      <th>Spread</th>\n",
       "    </tr>\n",
       "    <tr>\n",
       "      <th>Datetime</th>\n",
       "      <th></th>\n",
       "      <th></th>\n",
       "      <th></th>\n",
       "      <th></th>\n",
       "      <th></th>\n",
       "      <th></th>\n",
       "      <th></th>\n",
       "      <th></th>\n",
       "    </tr>\n",
       "  </thead>\n",
       "  <tbody>\n",
       "    <tr>\n",
       "      <th>2022-01-03 00:00:00</th>\n",
       "      <td>1.137656</td>\n",
       "      <td>1.138045</td>\n",
       "      <td>1.136493</td>\n",
       "      <td>1.136622</td>\n",
       "      <td>1.136622</td>\n",
       "      <td>8</td>\n",
       "      <td>1</td>\n",
       "      <td>15</td>\n",
       "    </tr>\n",
       "    <tr>\n",
       "      <th>2022-01-03 01:00:00</th>\n",
       "      <td>1.136622</td>\n",
       "      <td>1.137268</td>\n",
       "      <td>1.135332</td>\n",
       "      <td>1.136105</td>\n",
       "      <td>1.136105</td>\n",
       "      <td>39</td>\n",
       "      <td>2</td>\n",
       "      <td>19</td>\n",
       "    </tr>\n",
       "    <tr>\n",
       "      <th>2022-01-03 02:00:00</th>\n",
       "      <td>1.136235</td>\n",
       "      <td>1.136493</td>\n",
       "      <td>1.134559</td>\n",
       "      <td>1.134559</td>\n",
       "      <td>1.134559</td>\n",
       "      <td>0</td>\n",
       "      <td>1</td>\n",
       "      <td>19</td>\n",
       "    </tr>\n",
       "    <tr>\n",
       "      <th>2022-01-03 03:00:00</th>\n",
       "      <td>1.134687</td>\n",
       "      <td>1.135718</td>\n",
       "      <td>1.134559</td>\n",
       "      <td>1.135203</td>\n",
       "      <td>1.135203</td>\n",
       "      <td>55</td>\n",
       "      <td>3</td>\n",
       "      <td>11</td>\n",
       "    </tr>\n",
       "    <tr>\n",
       "      <th>2022-01-03 04:00:00</th>\n",
       "      <td>1.135460</td>\n",
       "      <td>1.135589</td>\n",
       "      <td>1.134301</td>\n",
       "      <td>1.134430</td>\n",
       "      <td>1.134430</td>\n",
       "      <td>9</td>\n",
       "      <td>1</td>\n",
       "      <td>12</td>\n",
       "    </tr>\n",
       "  </tbody>\n",
       "</table>\n",
       "</div>"
      ],
      "text/plain": [
       "                         Open      High       Low     Close  Adj Close  \\\n",
       "Datetime                                                                 \n",
       "2022-01-03 00:00:00  1.137656  1.138045  1.136493  1.136622   1.136622   \n",
       "2022-01-03 01:00:00  1.136622  1.137268  1.135332  1.136105   1.136105   \n",
       "2022-01-03 02:00:00  1.136235  1.136493  1.134559  1.134559   1.134559   \n",
       "2022-01-03 03:00:00  1.134687  1.135718  1.134559  1.135203   1.135203   \n",
       "2022-01-03 04:00:00  1.135460  1.135589  1.134301  1.134430   1.134430   \n",
       "\n",
       "                     Region  Region Index  Spread  \n",
       "Datetime                                           \n",
       "2022-01-03 00:00:00       8             1      15  \n",
       "2022-01-03 01:00:00      39             2      19  \n",
       "2022-01-03 02:00:00       0             1      19  \n",
       "2022-01-03 03:00:00      55             3      11  \n",
       "2022-01-03 04:00:00       9             1      12  "
      ]
     },
     "execution_count": 184,
     "metadata": {},
     "output_type": "execute_result"
    }
   ],
   "source": [
    "#add the region to the dataframe\n",
    "df['Region'] = region\n",
    "\n",
    "#getting the region index - 4\n",
    "def index(inpRegion):\n",
    "    if(inpRegion>=0 and inpRegion<=25):\n",
    "        return 1;\n",
    "    if(inpRegion>25 and inpRegion<=50):\n",
    "        return 2;\n",
    "    if(inpRegion>50 and inpRegion<=75):\n",
    "        return 3;\n",
    "    return 4\n",
    "\n",
    "df['Region Index'] = df['Region'].apply(index)\n",
    "\n",
    "df.head()"
   ]
  },
  {
   "cell_type": "code",
   "execution_count": 188,
   "id": "82665d39",
   "metadata": {},
   "outputs": [
    {
     "data": {
      "image/png": "[encoded data removed]",
      "text/plain": [
       "<Figure size 1000x500 with 1 Axes>"
      ]
     },
     "metadata": {
      "needs_background": "light"
     },
     "output_type": "display_data"
    }
   ],
   "source": [
    "#plotting the closing price against the date\n",
    "plt.figure(figsize=(10,5), dpi=100)\n",
    "plt.xlabel('DateTime')\n",
    "plt.ylabel('Closing Prices')\n",
    "plt.scatter(df['Region Index'],df['Spread'], color='blue')\n",
    "plt.show()"
   ]
  },
  {
   "cell_type": "code",
   "execution_count": 202,
   "id": "57fbc9dd",
   "metadata": {},
   "outputs": [],
   "source": [
    "#model data - train 70% and test 30%\n",
    "from sklearn.model_selection import train_test_split\n",
    "X = np.array(df['Spread']).reshape(-1,1)\n",
    "y = np.array( df['Region Index']).reshape(-1,1)\n",
    "\n",
    "X_train,X_test,y_train,y_test = train_test_split(X,y,test_size=0.2,random_state=10)"
   ]
  },
  {
   "cell_type": "code",
   "execution_count": 205,
   "id": "5b45997c",
   "metadata": {},
   "outputs": [
    {
     "data": {
      "text/plain": [
       "LinearRegression()"
      ]
     },
     "execution_count": 205,
     "metadata": {},
     "output_type": "execute_result"
    }
   ],
   "source": [
    "model = linear_model.LinearRegression()\n",
    "\n",
    "model.fit(X_train, y_train)"
   ]
  },
  {
   "cell_type": "code",
   "execution_count": 210,
   "id": "0a318899",
   "metadata": {},
   "outputs": [
    {
     "data": {
      "text/plain": [
       "array([2.16946942])"
      ]
     },
     "execution_count": 210,
     "metadata": {},
     "output_type": "execute_result"
    }
   ],
   "source": [
    "#x_intercept:\n",
    "model.intercept_"
   ]
  },
  {
   "cell_type": "code",
   "execution_count": 212,
   "id": "a212cc2c",
   "metadata": {},
   "outputs": [
    {
     "data": {
      "text/plain": [
       "array([[0.00817499]])"
      ]
     },
     "execution_count": 212,
     "metadata": {},
     "output_type": "execute_result"
    }
   ],
   "source": [
    "#gradient.. line of best fit\n",
    "model.coef_"
   ]
  },
  {
   "cell_type": "code",
   "execution_count": 215,
   "id": "33ce1c71",
   "metadata": {},
   "outputs": [
    {
     "data": {
      "text/plain": [
       "0.7440919843942018"
      ]
     },
     "execution_count": 215,
     "metadata": {},
     "output_type": "execute_result"
    }
   ],
   "source": [
    "#accuracy score in %\n",
    "model.score(X_train,y_train) * 100"
   ]
  },
  {
   "cell_type": "markdown",
   "id": "e416de52",
   "metadata": {},
   "source": [
    "### an accuracy score depicts how much reliable the model is on a scale of 1-100% the higher the better. The example below show a very weak or negligible relationship between the spread of an asset - EURUSD and the region of closing"
   ]
  },
  {
   "cell_type": "code",
   "execution_count": null,
   "id": "72e9fbf2",
   "metadata": {},
   "outputs": [],
   "source": []
  }
 ],
 "metadata": {
  "kernelspec": {
   "display_name": "Python 3 (ipykernel)",
   "language": "python",
   "name": "python3"
  },
  "language_info": {
   "codemirror_mode": {
    "name": "ipython",
    "version": 3
   },
   "file_extension": ".py",
   "mimetype": "text/x-python",
   "name": "python",
   "nbconvert_exporter": "python",
   "pygments_lexer": "ipython3",
   "version": "3.9.7"
  }
 },
 "nbformat": 4,
 "nbformat_minor": 5
}
