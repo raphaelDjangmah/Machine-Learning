{
 "cells": [
  {
   "cell_type": "markdown",
   "id": "82276a1a",
   "metadata": {},
   "source": [
    "## Use machine learning linear regression to predict the closing region (divide the price into 3) of apple stocks in a day considering the lowest and highest attained that day"
   ]
  },
  {
   "cell_type": "code",
   "execution_count": null,
   "id": "9ef9e1ed",
   "metadata": {},
   "outputs": [],
   "source": []
  }
 ],
 "metadata": {
  "kernelspec": {
   "display_name": "Python 3 (ipykernel)",
   "language": "python",
   "name": "python3"
  },
  "language_info": {
   "codemirror_mode": {
    "name": "ipython",
    "version": 3
   },
   "file_extension": ".py",
   "mimetype": "text/x-python",
   "name": "python",
   "nbconvert_exporter": "python",
   "pygments_lexer": "ipython3",
   "version": "3.9.7"
  }
 },
 "nbformat": 4,
 "nbformat_minor": 5
}
