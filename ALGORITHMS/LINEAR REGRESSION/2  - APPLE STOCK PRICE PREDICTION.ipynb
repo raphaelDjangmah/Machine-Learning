{
 "cells": [
  {
   "cell_type": "markdown",
   "id": "377a29ed",
   "metadata": {},
   "source": [
    "## Use machine learning linear regression to predict the closing region (divide the price into 3) of apple stocks in a day considering the lowest and highest attained that day"
   ]
  },
  {
   "cell_type": "code",
   "execution_count": 6,
   "id": "cfdf7ca2",
   "metadata": {},
   "outputs": [],
   "source": [
    "#imports needed\n",
    "import numpy as np\n",
    "import pandas as pd\n",
    "import matplotlib.pyplot as plt\n",
    "from sklearn import linear_model\n",
    "from datetime import time,date"
   ]
  },
  {
   "cell_type": "code",
   "execution_count": 8,
   "id": "e9192148",
   "metadata": {},
   "outputs": [],
   "source": [
    "#taking advantage of yahoo finance to get apple stocks data\n",
    "try:\n",
    "    import yfinance\n",
    "except:\n",
    "    !pip install -q yfinance\n",
    "\n",
    "try:\n",
    "    import yahoofinancials\n",
    "except:\n",
    "    !pip install -q yahoofinancials"
   ]
  },
  {
   "cell_type": "code",
   "execution_count": 24,
   "id": "c9e7c8da",
   "metadata": {},
   "outputs": [
    {
     "name": "stdout",
     "output_type": "stream",
     "text": [
      "[*********************100%***********************]  1 of 1 completed\n"
     ]
    },
    {
     "data": {
      "text/html": [
       "<div>\n",
       "<style scoped>\n",
       "    .dataframe tbody tr th:only-of-type {\n",
       "        vertical-align: middle;\n",
       "    }\n",
       "\n",
       "    .dataframe tbody tr th {\n",
       "        vertical-align: top;\n",
       "    }\n",
       "\n",
       "    .dataframe thead th {\n",
       "        text-align: right;\n",
       "    }\n",
       "</style>\n",
       "<table border=\"1\" class=\"dataframe\">\n",
       "  <thead>\n",
       "    <tr style=\"text-align: right;\">\n",
       "      <th></th>\n",
       "      <th>Open</th>\n",
       "      <th>High</th>\n",
       "      <th>Low</th>\n",
       "      <th>Close</th>\n",
       "      <th>Adj Close</th>\n",
       "      <th>Volume</th>\n",
       "    </tr>\n",
       "    <tr>\n",
       "      <th>Datetime</th>\n",
       "      <th></th>\n",
       "      <th></th>\n",
       "      <th></th>\n",
       "      <th></th>\n",
       "      <th></th>\n",
       "      <th></th>\n",
       "    </tr>\n",
       "  </thead>\n",
       "  <tbody>\n",
       "    <tr>\n",
       "      <th>2022-01-03 09:30:00</th>\n",
       "      <td>177.830002</td>\n",
       "      <td>181.429993</td>\n",
       "      <td>177.710007</td>\n",
       "      <td>180.839996</td>\n",
       "      <td>180.839996</td>\n",
       "      <td>25170269</td>\n",
       "    </tr>\n",
       "    <tr>\n",
       "      <th>2022-01-03 10:30:00</th>\n",
       "      <td>180.850006</td>\n",
       "      <td>181.770004</td>\n",
       "      <td>180.389999</td>\n",
       "      <td>181.749893</td>\n",
       "      <td>181.749893</td>\n",
       "      <td>11976542</td>\n",
       "    </tr>\n",
       "    <tr>\n",
       "      <th>2022-01-03 11:30:00</th>\n",
       "      <td>181.750000</td>\n",
       "      <td>181.770004</td>\n",
       "      <td>181.074997</td>\n",
       "      <td>181.600006</td>\n",
       "      <td>181.600006</td>\n",
       "      <td>8143152</td>\n",
       "    </tr>\n",
       "    <tr>\n",
       "      <th>2022-01-03 12:30:00</th>\n",
       "      <td>181.595001</td>\n",
       "      <td>182.279007</td>\n",
       "      <td>181.490005</td>\n",
       "      <td>182.229706</td>\n",
       "      <td>182.229706</td>\n",
       "      <td>8407914</td>\n",
       "    </tr>\n",
       "    <tr>\n",
       "      <th>2022-01-03 13:30:00</th>\n",
       "      <td>182.225006</td>\n",
       "      <td>182.880005</td>\n",
       "      <td>181.809998</td>\n",
       "      <td>181.865005</td>\n",
       "      <td>181.865005</td>\n",
       "      <td>11618629</td>\n",
       "    </tr>\n",
       "  </tbody>\n",
       "</table>\n",
       "</div>"
      ],
      "text/plain": [
       "                           Open        High         Low       Close  \\\n",
       "Datetime                                                              \n",
       "2022-01-03 09:30:00  177.830002  181.429993  177.710007  180.839996   \n",
       "2022-01-03 10:30:00  180.850006  181.770004  180.389999  181.749893   \n",
       "2022-01-03 11:30:00  181.750000  181.770004  181.074997  181.600006   \n",
       "2022-01-03 12:30:00  181.595001  182.279007  181.490005  182.229706   \n",
       "2022-01-03 13:30:00  182.225006  182.880005  181.809998  181.865005   \n",
       "\n",
       "                      Adj Close    Volume  \n",
       "Datetime                                   \n",
       "2022-01-03 09:30:00  180.839996  25170269  \n",
       "2022-01-03 10:30:00  181.749893  11976542  \n",
       "2022-01-03 11:30:00  181.600006   8143152  \n",
       "2022-01-03 12:30:00  182.229706   8407914  \n",
       "2022-01-03 13:30:00  181.865005  11618629  "
      ]
     },
     "execution_count": 24,
     "metadata": {},
     "output_type": "execute_result"
    }
   ],
   "source": [
    "import yfinance as yf\n",
    "import yahoofinancials as yfs\n",
    "pd.set_option('display.max.rows',None)\n",
    "\n",
    "#downloading hourly prices\n",
    "df = yf.download('AAPL',start=\"2022-01-01\",end=date.today(),interval=\"1h\",progress=True)\n",
    "df.head()"
   ]
  },
  {
   "cell_type": "code",
   "execution_count": 45,
   "id": "e7c00b55",
   "metadata": {
    "scrolled": true
   },
   "outputs": [
    {
     "data": {
      "text/plain": [
       "([84, 98, 75, 93, 5], [])"
      ]
     },
     "execution_count": 45,
     "metadata": {},
     "output_type": "execute_result"
    }
   ],
   "source": [
    "#now get the total spread and region onto which the close happened/\n",
    "region  = []\n",
    "spreads = []\n",
    "\n",
    "for i in range(len(df.Open)):\n",
    "    spread = abs(df.High[i] - df.Low[i])\n",
    "    reg = ((df.Close[i]-df.Low[i])*100)/spread\n",
    "    region.append(int(reg))\n",
    "    \n",
    "region[:5], spreads[:5]"
   ]
  },
  {
   "cell_type": "code",
   "execution_count": 46,
   "id": "19fd2fee",
   "metadata": {},
   "outputs": [
    {
     "data": {
      "text/html": [
       "<div>\n",
       "<style scoped>\n",
       "    .dataframe tbody tr th:only-of-type {\n",
       "        vertical-align: middle;\n",
       "    }\n",
       "\n",
       "    .dataframe tbody tr th {\n",
       "        vertical-align: top;\n",
       "    }\n",
       "\n",
       "    .dataframe thead th {\n",
       "        text-align: right;\n",
       "    }\n",
       "</style>\n",
       "<table border=\"1\" class=\"dataframe\">\n",
       "  <thead>\n",
       "    <tr style=\"text-align: right;\">\n",
       "      <th></th>\n",
       "      <th>Open</th>\n",
       "      <th>High</th>\n",
       "      <th>Low</th>\n",
       "      <th>Close</th>\n",
       "      <th>Adj Close</th>\n",
       "      <th>Volume</th>\n",
       "      <th>Region</th>\n",
       "    </tr>\n",
       "    <tr>\n",
       "      <th>Datetime</th>\n",
       "      <th></th>\n",
       "      <th></th>\n",
       "      <th></th>\n",
       "      <th></th>\n",
       "      <th></th>\n",
       "      <th></th>\n",
       "      <th></th>\n",
       "    </tr>\n",
       "  </thead>\n",
       "  <tbody>\n",
       "    <tr>\n",
       "      <th>2022-01-03 09:30:00</th>\n",
       "      <td>177.830002</td>\n",
       "      <td>181.429993</td>\n",
       "      <td>177.710007</td>\n",
       "      <td>180.839996</td>\n",
       "      <td>180.839996</td>\n",
       "      <td>25170269</td>\n",
       "      <td>84</td>\n",
       "    </tr>\n",
       "    <tr>\n",
       "      <th>2022-01-03 10:30:00</th>\n",
       "      <td>180.850006</td>\n",
       "      <td>181.770004</td>\n",
       "      <td>180.389999</td>\n",
       "      <td>181.749893</td>\n",
       "      <td>181.749893</td>\n",
       "      <td>11976542</td>\n",
       "      <td>98</td>\n",
       "    </tr>\n",
       "    <tr>\n",
       "      <th>2022-01-03 11:30:00</th>\n",
       "      <td>181.750000</td>\n",
       "      <td>181.770004</td>\n",
       "      <td>181.074997</td>\n",
       "      <td>181.600006</td>\n",
       "      <td>181.600006</td>\n",
       "      <td>8143152</td>\n",
       "      <td>75</td>\n",
       "    </tr>\n",
       "    <tr>\n",
       "      <th>2022-01-03 12:30:00</th>\n",
       "      <td>181.595001</td>\n",
       "      <td>182.279007</td>\n",
       "      <td>181.490005</td>\n",
       "      <td>182.229706</td>\n",
       "      <td>182.229706</td>\n",
       "      <td>8407914</td>\n",
       "      <td>93</td>\n",
       "    </tr>\n",
       "    <tr>\n",
       "      <th>2022-01-03 13:30:00</th>\n",
       "      <td>182.225006</td>\n",
       "      <td>182.880005</td>\n",
       "      <td>181.809998</td>\n",
       "      <td>181.865005</td>\n",
       "      <td>181.865005</td>\n",
       "      <td>11618629</td>\n",
       "      <td>5</td>\n",
       "    </tr>\n",
       "  </tbody>\n",
       "</table>\n",
       "</div>"
      ],
      "text/plain": [
       "                           Open        High         Low       Close  \\\n",
       "Datetime                                                              \n",
       "2022-01-03 09:30:00  177.830002  181.429993  177.710007  180.839996   \n",
       "2022-01-03 10:30:00  180.850006  181.770004  180.389999  181.749893   \n",
       "2022-01-03 11:30:00  181.750000  181.770004  181.074997  181.600006   \n",
       "2022-01-03 12:30:00  181.595001  182.279007  181.490005  182.229706   \n",
       "2022-01-03 13:30:00  182.225006  182.880005  181.809998  181.865005   \n",
       "\n",
       "                      Adj Close    Volume  Region  \n",
       "Datetime                                           \n",
       "2022-01-03 09:30:00  180.839996  25170269      84  \n",
       "2022-01-03 10:30:00  181.749893  11976542      98  \n",
       "2022-01-03 11:30:00  181.600006   8143152      75  \n",
       "2022-01-03 12:30:00  182.229706   8407914      93  \n",
       "2022-01-03 13:30:00  181.865005  11618629       5  "
      ]
     },
     "execution_count": 46,
     "metadata": {},
     "output_type": "execute_result"
    }
   ],
   "source": [
    "#add the region to the dataframe\n",
    "df['Region'] = region\n",
    "\n",
    "df.head()"
   ]
  },
  {
   "cell_type": "code",
   "execution_count": 65,
   "id": "bd1fe712",
   "metadata": {},
   "outputs": [
    {
     "data": {
      "image/png": "[encoded data removed]",
      "text/plain": [
       "<Figure size 1000x500 with 1 Axes>"
      ]
     },
     "metadata": {
      "needs_background": "light"
     },
     "output_type": "display_data"
    }
   ],
   "source": [
    "#plotting the closing price against the date\n",
    "plt.figure(figsize=(10,5), dpi=100)\n",
    "plt.xlabel('DateTime')\n",
    "plt.ylabel('Closing Prices')\n",
    "plt.plot(df.Close,color='red')\n",
    "plt.show()"
   ]
  },
  {
   "cell_type": "code",
   "execution_count": 66,
   "id": "0bf1d37e",
   "metadata": {},
   "outputs": [],
   "source": [
    "#TO BE CONTINUED"
   ]
  }
 ],
 "metadata": {
  "kernelspec": {
   "display_name": "Python 3 (ipykernel)",
   "language": "python",
   "name": "python3"
  },
  "language_info": {
   "codemirror_mode": {
    "name": "ipython",
    "version": 3
   },
   "file_extension": ".py",
   "mimetype": "text/x-python",
   "name": "python",
   "nbconvert_exporter": "python",
   "pygments_lexer": "ipython3",
   "version": "3.9.7"
  }
 },
 "nbformat": 4,
 "nbformat_minor": 5
}
