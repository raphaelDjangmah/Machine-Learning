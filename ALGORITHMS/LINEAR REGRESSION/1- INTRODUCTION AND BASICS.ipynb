{
 "cells": [
  {
   "cell_type": "markdown",
   "id": "27b87e6a",
   "metadata": {},
   "source": [
    "# LINEAR REGRESSION\n",
    "## Linear regression is a linear machine learning algorithm for modelling the relationship between a scalar and one or more dependent variables.\n",
    "### It is used to quantify the relationship between one or more predictor variables and a response variable.\n",
    "### Correlation score gives a value between 0-1.0 value, the larger the value, the better the predicted model"
   ]
  },
  {
   "cell_type": "markdown",
   "id": "ec8f4319",
   "metadata": {},
   "source": []
  },
  {
   "cell_type": "code",
   "execution_count": 87,
   "id": "19ce2dc6",
   "metadata": {},
   "outputs": [],
   "source": [
    "#necessary libraries needed\n",
    "import pandas as pd\n",
    "import numpy as np\n",
    "import matplotlib.pyplot as plt\n",
    "from sklearn import linear_model"
   ]
  },
  {
   "cell_type": "markdown",
   "id": "13c97bc6",
   "metadata": {},
   "source": [
    "# SIMPLE LINEAR REGRESSION"
   ]
  },
  {
   "cell_type": "markdown",
   "id": "1169a030",
   "metadata": {},
   "source": [
    "#### In this session, we will predict the SPREAD of USOIL daily prices using the volume accumulated in the previous day"
   ]
  },
  {
   "cell_type": "code",
   "execution_count": 88,
   "id": "dead29d1",
   "metadata": {},
   "outputs": [
    {
     "data": {
      "text/html": [
       "<div>\n",
       "<style scoped>\n",
       "    .dataframe tbody tr th:only-of-type {\n",
       "        vertical-align: middle;\n",
       "    }\n",
       "\n",
       "    .dataframe tbody tr th {\n",
       "        vertical-align: top;\n",
       "    }\n",
       "\n",
       "    .dataframe thead th {\n",
       "        text-align: right;\n",
       "    }\n",
       "</style>\n",
       "<table border=\"1\" class=\"dataframe\">\n",
       "  <thead>\n",
       "    <tr style=\"text-align: right;\">\n",
       "      <th></th>\n",
       "      <th>PRICE</th>\n",
       "      <th>VOLUME</th>\n",
       "    </tr>\n",
       "  </thead>\n",
       "  <tbody>\n",
       "    <tr>\n",
       "      <th>0</th>\n",
       "      <td>75.773</td>\n",
       "      <td>27376</td>\n",
       "    </tr>\n",
       "    <tr>\n",
       "      <th>1</th>\n",
       "      <td>76.838</td>\n",
       "      <td>31341</td>\n",
       "    </tr>\n",
       "    <tr>\n",
       "      <th>2</th>\n",
       "      <td>76.868</td>\n",
       "      <td>30073</td>\n",
       "    </tr>\n",
       "    <tr>\n",
       "      <th>3</th>\n",
       "      <td>79.003</td>\n",
       "      <td>37806</td>\n",
       "    </tr>\n",
       "    <tr>\n",
       "      <th>4</th>\n",
       "      <td>78.455</td>\n",
       "      <td>29462</td>\n",
       "    </tr>\n",
       "  </tbody>\n",
       "</table>\n",
       "</div>"
      ],
      "text/plain": [
       "    PRICE  VOLUME\n",
       "0  75.773   27376\n",
       "1  76.838   31341\n",
       "2  76.868   30073\n",
       "3  79.003   37806\n",
       "4  78.455   29462"
      ]
     },
     "execution_count": 88,
     "metadata": {},
     "output_type": "execute_result"
    }
   ],
   "source": [
    "#pandas settings to display all values\n",
    "pd.set_option('display.max_rows',None)\n",
    "\n",
    "#load the data\n",
    "df = pd.read_csv('usoil_prices.csv',encoding='utf-16',sep=\"\\t\")\n",
    "\n",
    "df.head()"
   ]
  },
  {
   "cell_type": "code",
   "execution_count": 89,
   "id": "acef38c2",
   "metadata": {},
   "outputs": [
    {
     "data": {
      "text/html": [
       "<div>\n",
       "<style scoped>\n",
       "    .dataframe tbody tr th:only-of-type {\n",
       "        vertical-align: middle;\n",
       "    }\n",
       "\n",
       "    .dataframe tbody tr th {\n",
       "        vertical-align: top;\n",
       "    }\n",
       "\n",
       "    .dataframe thead th {\n",
       "        text-align: right;\n",
       "    }\n",
       "</style>\n",
       "<table border=\"1\" class=\"dataframe\">\n",
       "  <thead>\n",
       "    <tr style=\"text-align: right;\">\n",
       "      <th></th>\n",
       "      <th>PRICE</th>\n",
       "      <th>VOLUME</th>\n",
       "      <th>SPREAD</th>\n",
       "    </tr>\n",
       "  </thead>\n",
       "  <tbody>\n",
       "    <tr>\n",
       "      <th>0</th>\n",
       "      <td>75.773</td>\n",
       "      <td>27376</td>\n",
       "      <td>0.0</td>\n",
       "    </tr>\n",
       "    <tr>\n",
       "      <th>1</th>\n",
       "      <td>76.838</td>\n",
       "      <td>31341</td>\n",
       "      <td>106.5</td>\n",
       "    </tr>\n",
       "    <tr>\n",
       "      <th>2</th>\n",
       "      <td>76.868</td>\n",
       "      <td>30073</td>\n",
       "      <td>3.0</td>\n",
       "    </tr>\n",
       "    <tr>\n",
       "      <th>3</th>\n",
       "      <td>79.003</td>\n",
       "      <td>37806</td>\n",
       "      <td>213.5</td>\n",
       "    </tr>\n",
       "    <tr>\n",
       "      <th>4</th>\n",
       "      <td>78.455</td>\n",
       "      <td>29462</td>\n",
       "      <td>54.8</td>\n",
       "    </tr>\n",
       "  </tbody>\n",
       "</table>\n",
       "</div>"
      ],
      "text/plain": [
       "    PRICE  VOLUME  SPREAD\n",
       "0  75.773   27376     0.0\n",
       "1  76.838   31341   106.5\n",
       "2  76.868   30073     3.0\n",
       "3  79.003   37806   213.5\n",
       "4  78.455   29462    54.8"
      ]
     },
     "execution_count": 89,
     "metadata": {},
     "output_type": "execute_result"
    }
   ],
   "source": [
    "#spreaad\n",
    "spread = []\n",
    "spread.append(0)\n",
    "for i in range(1,len(df.PRICE)):\n",
    "    spread.append(abs(df.PRICE[i] - df.PRICE[i-1]) * 100)\n",
    "    \n",
    "df['SPREAD'] = spread\n",
    "df.head()"
   ]
  },
  {
   "cell_type": "code",
   "execution_count": 90,
   "id": "afe6968f",
   "metadata": {},
   "outputs": [
    {
     "data": {
      "image/png": "[encoded data removed]",
      "text/plain": [
       "<Figure size 1000x500 with 1 Axes>"
      ]
     },
     "metadata": {
      "needs_background": "light"
     },
     "output_type": "display_data"
    }
   ],
   "source": [
    "#plotting scatter plot of volume price\n",
    "%matplotlib inline\n",
    "plt.figure(figsize=(10,5), dpi=100)\n",
    "plt.xlabel('VOLUME GENERATED')\n",
    "plt.ylabel('SPREAD OF PRICES')\n",
    "plt.scatter(df['VOLUME'], df.SPREAD,color=\"red\",marker=\"*\")\n",
    "\n",
    "plt.show()"
   ]
  },
  {
   "cell_type": "code",
   "execution_count": 92,
   "id": "a3d33101",
   "metadata": {},
   "outputs": [
    {
     "data": {
      "text/plain": [
       "0.14995326446031254"
      ]
     },
     "execution_count": 92,
     "metadata": {},
     "output_type": "execute_result"
    }
   ],
   "source": [
    "#training the model by fitting the model with the data\n",
    "regression = linear_model.LinearRegression()\n",
    "X = np.array(df['VOLUME']).reshape(-1,1)\n",
    "y = np.array(df.SPREAD).reshape(-1,1)\n",
    "regression.fit(X,y)\n",
    "\n",
    "regression.score(X,y)"
   ]
  },
  {
   "cell_type": "code",
   "execution_count": 31,
   "id": "cd9bda0b",
   "metadata": {},
   "outputs": [
    {
     "data": {
      "text/plain": [
       "array([[43.66141637]])"
      ]
     },
     "execution_count": 31,
     "metadata": {},
     "output_type": "execute_result"
    }
   ],
   "source": [
    "#predicting the price with a volume of 10000\n",
    "predict_val = np.array(1000).reshape(-1,1)\n",
    "\n",
    "regression.predict(predict_val)"
   ]
  },
  {
   "cell_type": "code",
   "execution_count": 16,
   "id": "7abf58e5",
   "metadata": {},
   "outputs": [
    {
     "data": {
      "text/plain": [
       "array([[0.00370089]])"
      ]
     },
     "execution_count": 16,
     "metadata": {},
     "output_type": "execute_result"
    }
   ],
   "source": [
    "#gradient\n",
    "regression.coef_"
   ]
  },
  {
   "cell_type": "code",
   "execution_count": 18,
   "id": "2baa49ae",
   "metadata": {},
   "outputs": [
    {
     "data": {
      "text/plain": [
       "array([39.96053001])"
      ]
     },
     "execution_count": 18,
     "metadata": {},
     "output_type": "execute_result"
    }
   ],
   "source": [
    "#intercept\n",
    "regression.intercept_"
   ]
  },
  {
   "cell_type": "markdown",
   "id": "1178e6e2",
   "metadata": {},
   "source": [
    "# MULTI-VARIABLE LINEAR REGRESSION"
   ]
  },
  {
   "cell_type": "markdown",
   "id": "01263c6c",
   "metadata": {},
   "source": [
    "#### In this session, we will predict the closing price of USOIL considering the open price and volume generated that day "
   ]
  },
  {
   "cell_type": "code",
   "execution_count": 95,
   "id": "4ebca1bc",
   "metadata": {},
   "outputs": [
    {
     "data": {
      "text/html": [
       "<div>\n",
       "<style scoped>\n",
       "    .dataframe tbody tr th:only-of-type {\n",
       "        vertical-align: middle;\n",
       "    }\n",
       "\n",
       "    .dataframe tbody tr th {\n",
       "        vertical-align: top;\n",
       "    }\n",
       "\n",
       "    .dataframe thead th {\n",
       "        text-align: right;\n",
       "    }\n",
       "</style>\n",
       "<table border=\"1\" class=\"dataframe\">\n",
       "  <thead>\n",
       "    <tr style=\"text-align: right;\">\n",
       "      <th></th>\n",
       "      <th>OPEN</th>\n",
       "      <th>HIGH</th>\n",
       "      <th>LOW</th>\n",
       "      <th>CLOSE</th>\n",
       "      <th>VOLUME</th>\n",
       "    </tr>\n",
       "  </thead>\n",
       "  <tbody>\n",
       "    <tr>\n",
       "      <th>0</th>\n",
       "      <td>75.595</td>\n",
       "      <td>76.257</td>\n",
       "      <td>74.098</td>\n",
       "      <td>75.773</td>\n",
       "      <td>NaN</td>\n",
       "    </tr>\n",
       "    <tr>\n",
       "      <th>1</th>\n",
       "      <td>75.772</td>\n",
       "      <td>77.457</td>\n",
       "      <td>75.530</td>\n",
       "      <td>76.838</td>\n",
       "      <td>31341.0</td>\n",
       "    </tr>\n",
       "    <tr>\n",
       "      <th>2</th>\n",
       "      <td>76.836</td>\n",
       "      <td>78.262</td>\n",
       "      <td>76.317</td>\n",
       "      <td>NaN</td>\n",
       "      <td>30073.0</td>\n",
       "    </tr>\n",
       "    <tr>\n",
       "      <th>3</th>\n",
       "      <td>76.869</td>\n",
       "      <td>79.726</td>\n",
       "      <td>76.388</td>\n",
       "      <td>79.003</td>\n",
       "      <td>NaN</td>\n",
       "    </tr>\n",
       "    <tr>\n",
       "      <th>4</th>\n",
       "      <td>79.001</td>\n",
       "      <td>79.945</td>\n",
       "      <td>78.156</td>\n",
       "      <td>78.455</td>\n",
       "      <td>29462.0</td>\n",
       "    </tr>\n",
       "  </tbody>\n",
       "</table>\n",
       "</div>"
      ],
      "text/plain": [
       "     OPEN    HIGH     LOW   CLOSE   VOLUME\n",
       "0  75.595  76.257  74.098  75.773      NaN\n",
       "1  75.772  77.457  75.530  76.838  31341.0\n",
       "2  76.836  78.262  76.317     NaN  30073.0\n",
       "3  76.869  79.726  76.388  79.003      NaN\n",
       "4  79.001  79.945  78.156  78.455  29462.0"
      ]
     },
     "execution_count": 95,
     "metadata": {},
     "output_type": "execute_result"
    }
   ],
   "source": [
    "#pandas settings to display all values\n",
    "pd.set_option('display.max_rows',None)\n",
    "\n",
    "#load the data\n",
    "df = pd.read_csv('usoil_prices_B.csv',encoding='utf-16',sep=\"\\t\")\n",
    "\n",
    "df.head()"
   ]
  },
  {
   "cell_type": "code",
   "execution_count": 96,
   "id": "c04782d6",
   "metadata": {},
   "outputs": [
    {
     "data": {
      "text/html": [
       "<div>\n",
       "<style scoped>\n",
       "    .dataframe tbody tr th:only-of-type {\n",
       "        vertical-align: middle;\n",
       "    }\n",
       "\n",
       "    .dataframe tbody tr th {\n",
       "        vertical-align: top;\n",
       "    }\n",
       "\n",
       "    .dataframe thead th {\n",
       "        text-align: right;\n",
       "    }\n",
       "</style>\n",
       "<table border=\"1\" class=\"dataframe\">\n",
       "  <thead>\n",
       "    <tr style=\"text-align: right;\">\n",
       "      <th></th>\n",
       "      <th>OPEN</th>\n",
       "      <th>HIGH</th>\n",
       "      <th>LOW</th>\n",
       "      <th>CLOSE</th>\n",
       "      <th>VOLUME</th>\n",
       "    </tr>\n",
       "  </thead>\n",
       "  <tbody>\n",
       "    <tr>\n",
       "      <th>0</th>\n",
       "      <td>75.595</td>\n",
       "      <td>76.257</td>\n",
       "      <td>74.098</td>\n",
       "      <td>75.773000</td>\n",
       "      <td>41642.996644</td>\n",
       "    </tr>\n",
       "    <tr>\n",
       "      <th>1</th>\n",
       "      <td>75.772</td>\n",
       "      <td>77.457</td>\n",
       "      <td>75.530</td>\n",
       "      <td>76.838000</td>\n",
       "      <td>31341.000000</td>\n",
       "    </tr>\n",
       "    <tr>\n",
       "      <th>2</th>\n",
       "      <td>76.836</td>\n",
       "      <td>78.262</td>\n",
       "      <td>76.317</td>\n",
       "      <td>94.195957</td>\n",
       "      <td>30073.000000</td>\n",
       "    </tr>\n",
       "    <tr>\n",
       "      <th>3</th>\n",
       "      <td>76.869</td>\n",
       "      <td>79.726</td>\n",
       "      <td>76.388</td>\n",
       "      <td>79.003000</td>\n",
       "      <td>41642.996644</td>\n",
       "    </tr>\n",
       "    <tr>\n",
       "      <th>4</th>\n",
       "      <td>79.001</td>\n",
       "      <td>79.945</td>\n",
       "      <td>78.156</td>\n",
       "      <td>78.455000</td>\n",
       "      <td>29462.000000</td>\n",
       "    </tr>\n",
       "  </tbody>\n",
       "</table>\n",
       "</div>"
      ],
      "text/plain": [
       "     OPEN    HIGH     LOW      CLOSE        VOLUME\n",
       "0  75.595  76.257  74.098  75.773000  41642.996644\n",
       "1  75.772  77.457  75.530  76.838000  31341.000000\n",
       "2  76.836  78.262  76.317  94.195957  30073.000000\n",
       "3  76.869  79.726  76.388  79.003000  41642.996644\n",
       "4  79.001  79.945  78.156  78.455000  29462.000000"
      ]
     },
     "execution_count": 96,
     "metadata": {},
     "output_type": "execute_result"
    }
   ],
   "source": [
    "#DATA-PREPROCESSING - fill all None Values with the mean price\n",
    "df.OPEN  = df.OPEN.fillna(df.OPEN.mean())\n",
    "df.CLOSE = df.CLOSE.fillna(df.CLOSE.mean())\n",
    "df.VOLUME = df.VOLUME.fillna(df.VOLUME.mean())\n",
    "\n",
    "df.head()"
   ]
  },
  {
   "cell_type": "code",
   "execution_count": 107,
   "id": "726b7a1e",
   "metadata": {},
   "outputs": [
    {
     "data": {
      "text/plain": [
       "LinearRegression()"
      ]
     },
     "execution_count": 107,
     "metadata": {},
     "output_type": "execute_result"
    }
   ],
   "source": [
    "#now train model\n",
    "model = linear_model.LinearRegression()\n",
    "model.fit(df[['VOLUME','OPEN']],df.CLOSE)"
   ]
  },
  {
   "cell_type": "code",
   "execution_count": 106,
   "id": "32c8c59a",
   "metadata": {},
   "outputs": [
    {
     "data": {
      "text/plain": [
       "0.9381445221568425"
      ]
     },
     "execution_count": 106,
     "metadata": {},
     "output_type": "execute_result"
    }
   ],
   "source": [
    "model.score(df[['VOLUME','OPEN']],df.CLOSE)"
   ]
  },
  {
   "cell_type": "code",
   "execution_count": 112,
   "id": "71e5132d",
   "metadata": {},
   "outputs": [
    {
     "data": {
      "text/plain": [
       "array([79.57933995])"
      ]
     },
     "execution_count": 112,
     "metadata": {},
     "output_type": "execute_result"
    }
   ],
   "source": [
    "#we can now make predictions\n",
    "model.predict([[30000,79.002]])"
   ]
  }
 ],
 "metadata": {
  "kernelspec": {
   "display_name": "Python 3 (ipykernel)",
   "language": "python",
   "name": "python3"
  },
  "language_info": {
   "codemirror_mode": {
    "name": "ipython",
    "version": 3
   },
   "file_extension": ".py",
   "mimetype": "text/x-python",
   "name": "python",
   "nbconvert_exporter": "python",
   "pygments_lexer": "ipython3",
   "version": "3.9.7"
  }
 },
 "nbformat": 4,
 "nbformat_minor": 5
}
